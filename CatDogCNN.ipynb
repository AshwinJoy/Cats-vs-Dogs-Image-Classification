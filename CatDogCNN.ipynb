{
 "cells": [
  {
   "cell_type": "markdown",
   "metadata": {},
   "source": [
    "# Cats vs Dogs Image Classification"
   ]
  },
  {
   "cell_type": "code",
   "execution_count": 1,
   "metadata": {},
   "outputs": [],
   "source": [
    "#classifying images of dogs and cats using deep learning with keras "
   ]
  },
  {
   "cell_type": "code",
   "execution_count": 2,
   "metadata": {},
   "outputs": [
    {
     "name": "stderr",
     "output_type": "stream",
     "text": [
      "Using TensorFlow backend.\n"
     ]
    }
   ],
   "source": [
    "#importing needed libraries\n",
    "from keras.models import Sequential\n",
    "from keras.layers import Conv2D,Activation,MaxPooling2D,Dense,Flatten,Dropout\n",
    "import numpy as np"
   ]
  },
  {
   "cell_type": "code",
   "execution_count": 3,
   "metadata": {},
   "outputs": [],
   "source": [
    "#Initializing the CNN\n",
    "classifier = Sequential()"
   ]
  },
  {
   "cell_type": "code",
   "execution_count": 4,
   "metadata": {},
   "outputs": [],
   "source": [
    "#Adding convolutional layer which does filtering\n",
    "classifier.add(Conv2D(32,(3,3),input_shape=(64,64,3))) \n",
    "#32 is the no.of filters. the filter is an array of numbers, (3,3) is the size of the filter.\n",
    "#The input image is 64*64*3 size #64 height and 64 width and 3 refers RGB values\n",
    "#Each of the numbers in this array(64,64,3) is given values from 0 to 255 \n",
    "#which describes the pixel intensity at that point. \n",
    "#The output of this layer will be some feature maps"
   ]
  },
  {
   "cell_type": "code",
   "execution_count": 5,
   "metadata": {},
   "outputs": [],
   "source": [
    "\n",
    "#Let's pass the feature maps through an activation layer called ReLu\n",
    "classifier.add(Activation('relu'))\n",
    "#ReLu replaces all the negative pixel values in the feature map with 0."
   ]
  },
  {
   "cell_type": "code",
   "execution_count": 6,
   "metadata": {},
   "outputs": [],
   "source": [
    "#Adding pooling layer\n",
    "classifier.add(MaxPooling2D(pool_size =(2,2)))\n",
    "#Pooling reduces the dimensionality of each feature map, but retains the most imp. info.\n",
    "#This reduces the computational complexity of our network\n",
    "#Here, we used maxpooling with 2*2 filter. the filter will take the max values from each pool."
   ]
  },
  {
   "cell_type": "code",
   "execution_count": 7,
   "metadata": {},
   "outputs": [],
   "source": [
    "#A classic CNN has 3 Convolutional blocks followed by a fully connected layer.\n",
    "#we created the first set of layers. We can repeat this twice more.\n",
    "classifier.add(Conv2D(32,(3,3))) \n",
    "classifier.add(Activation('relu'))\n",
    "classifier.add(MaxPooling2D(pool_size =(2,2)))"
   ]
  },
  {
   "cell_type": "code",
   "execution_count": 8,
   "metadata": {},
   "outputs": [],
   "source": [
    "#One more....\n",
    "classifier.add(Conv2D(64,(3,3))) \n",
    "classifier.add(Activation('relu'))\n",
    "classifier.add(MaxPooling2D(pool_size =(2,2)))"
   ]
  },
  {
   "cell_type": "code",
   "execution_count": 9,
   "metadata": {},
   "outputs": [],
   "source": [
    "#To prevent overfitting, we use dropout layer.\n",
    "#This layer drops out a random set of activations in that layer by setting them to zero as data flows through it.\n",
    "#To prepare our model for droupot, we first flatten the feature map to 1D.\n",
    "classifier.add(Flatten())\n",
    "#Then we want to initialize a fully connected nw by Dense function\n",
    "classifier.add(Dense(64))\n",
    "# and apply relu to it.\n",
    "classifier.add(Activation('relu'))\n",
    "#Add the Dropout layer\n",
    "classifier.add(Dropout(0.5))"
   ]
  },
  {
   "cell_type": "code",
   "execution_count": 10,
   "metadata": {},
   "outputs": [],
   "source": [
    "#After dropout, we'll initialize 1 more fully connected layer.\n",
    "#This will output an n D vector, where n is the no.of classes we have, that is 2.\n",
    "classifier.add(Dense(1))"
   ]
  },
  {
   "cell_type": "code",
   "execution_count": 11,
   "metadata": {},
   "outputs": [],
   "source": [
    "#By applying a sigmoid to it, it'll convert the data to probabilities for each class.\n",
    "classifier.add(Activation('sigmoid'))"
   ]
  },
  {
   "cell_type": "code",
   "execution_count": 12,
   "metadata": {},
   "outputs": [],
   "source": [
    "#compiling cnn\n",
    "classifier.compile(optimizer ='rmsprop',\n",
    "                   loss ='binary_crossentropy',\n",
    "                   metrics =['accuracy'])\n",
    "#Optimizer rmsprop will perform gradient descent(finding the min. of a function)\n",
    "#binary_crossentropy is the prefered loss fn for binary classif. problems\n",
    "#metrics is set to accuracy"
   ]
  },
  {
   "cell_type": "code",
   "execution_count": 13,
   "metadata": {},
   "outputs": [],
   "source": [
    "#reducing overfitting by data augmentation\n",
    "from keras.preprocessing.image import ImageDataGenerator\n",
    "\n",
    "train_datagen = ImageDataGenerator(rescale =1./255,\n",
    "                                   shear_range =0.2,\n",
    "                                   zoom_range = 0.2,\n",
    "                                   horizontal_flip =True)\n",
    "test_datagen = ImageDataGenerator(rescale = 1./255)"
   ]
  },
  {
   "cell_type": "code",
   "execution_count": 14,
   "metadata": {},
   "outputs": [
    {
     "name": "stdout",
     "output_type": "stream",
     "text": [
      "Found 20000 images belonging to 2 classes.\n",
      "Found 5000 images belonging to 2 classes.\n"
     ]
    }
   ],
   "source": [
    "#Setting Train and Test directories\n",
    "training_set = train_datagen.flow_from_directory('C:/Users/Lab/Desktop/CatDogData/train',\n",
    "                                                target_size=(64,64),\n",
    "                                                batch_size= 32,\n",
    "                                                class_mode='binary')\n",
    "#and..\n",
    "test_set = test_datagen.flow_from_directory('C:/Users/Lab/Desktop/CatDogData/test',\n",
    "                                           target_size = (64,64),\n",
    "                                           batch_size = 32,\n",
    "                                           class_mode ='binary')"
   ]
  },
  {
   "cell_type": "code",
   "execution_count": 15,
   "metadata": {},
   "outputs": [
    {
     "name": "stdout",
     "output_type": "stream",
     "text": [
      "Epoch 1/2\n",
      "20000/20000 [==============================] - 10341s 517ms/step - loss: 0.4067 - acc: 0.8184 - val_loss: 0.3150 - val_acc: 0.8641\n",
      "Epoch 2/2\n",
      "20000/20000 [==============================] - 15417s 771ms/step - loss: 0.3739 - acc: 0.8445 - val_loss: 0.3458 - val_acc: 0.8683\n"
     ]
    },
    {
     "data": {
      "text/plain": [
       "<keras.callbacks.History at 0x2cff94ff3c8>"
      ]
     },
     "execution_count": 15,
     "metadata": {},
     "output_type": "execute_result"
    }
   ],
   "source": [
    "from IPython.display import display\n",
    "from PIL import Image\n",
    "\n",
    "\n",
    "classifier.fit_generator(training_set,\n",
    "                        steps_per_epoch =20000,\n",
    "                        epochs = 2,\n",
    "                        validation_data =test_set,\n",
    "                        validation_steps = 5000)"
   ]
  },
  {
   "cell_type": "code",
   "execution_count": 16,
   "metadata": {},
   "outputs": [],
   "source": [
    "from keras.models import load_model \n",
    "classifier.save('catdog_cnn_model.h5') # creates a HDF5 file 'catdog_model.h5'"
   ]
  },
  {
   "cell_type": "code",
   "execution_count": 42,
   "metadata": {},
   "outputs": [
    {
     "name": "stdout",
     "output_type": "stream",
     "text": [
      "[[1.]]\n"
     ]
    }
   ],
   "source": [
    "#loading the saved model\n",
    "from keras.models import load_model \n",
    "classifier = load_model('catdog_cnn_model.h5')\n",
    "\n",
    "#testing\n",
    "import numpy as np\n",
    "from keras.preprocessing import image\n",
    "img = image.load_img('C:/Users/Lab/Desktop/CatDogData/predict/d3.jpeg', target_size=(64,64))\n",
    "img = np.array(img)\n",
    "img =np.expand_dims(img, axis =0)\n",
    "prediction = classifier.predict(img)\n",
    "print(prediction)"
   ]
  },
  {
   "cell_type": "code",
   "execution_count": null,
   "metadata": {},
   "outputs": [],
   "source": [
    "#testing\n",
    "import numpy as np\n",
    "from keras.preprocessing import image\n",
    "test_image =image.load_img('C:/Users/Lab/Desktop/CatDogData/predict/d3.jpeg',target_size =(64,64))\n",
    "test_image =image.img_to_array(test_image)\n",
    "test_image =np.expand_dims(test_image, axis =0)\n",
    "result = classifier.predict(test_image)\n",
    "if result[0][0] >= 0.5:\n",
    "    prediction = 'dog'\n",
    "else:\n",
    "    prediction = 'cat'\n",
    "print(prediction)"
   ]
  }
 ],
 "metadata": {
  "kernelspec": {
   "display_name": "Python 3",
   "language": "python",
   "name": "python3"
  },
  "language_info": {
   "codemirror_mode": {
    "name": "ipython",
    "version": 3
   },
   "file_extension": ".py",
   "mimetype": "text/x-python",
   "name": "python",
   "nbconvert_exporter": "python",
   "pygments_lexer": "ipython3",
   "version": "3.6.8"
  }
 },
 "nbformat": 4,
 "nbformat_minor": 2
}
